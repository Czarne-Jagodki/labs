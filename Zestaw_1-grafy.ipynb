{
 "cells": [
  {
   "cell_type": "code",
   "execution_count": 64,
   "metadata": {},
   "outputs": [],
   "source": [
    "import networkx as nx\n",
    "import matplotlib.pyplot as plt\n",
    "import numpy as np\n",
    "import math\n",
    "from random import randrange\n",
    "from random import random"
   ]
  },
  {
   "cell_type": "code",
   "execution_count": 65,
   "metadata": {},
   "outputs": [],
   "source": [
    "neighbour_list = {\n",
    "          1 : [2, 5],\n",
    "          2 : [1, 3, 5],\n",
    "          3 : [2, 4],\n",
    "          4 : [3, 5],\n",
    "          5 : [1, 2, 4]\n",
    "}"
   ]
  },
  {
   "cell_type": "code",
   "execution_count": 66,
   "metadata": {},
   "outputs": [],
   "source": [
    "example = [\n",
    "                 [0, 1, 0, 0, 1, 1, 0, 0, 0, 0, 0, 0],\n",
    "                 [1, 0, 1, 0, 0, 1, 0, 0, 0, 0, 0, 0],\n",
    "                 [0, 1, 0, 1, 1, 0, 0, 0, 0, 0, 0, 1],\n",
    "                 [0, 0, 1, 0, 0, 0, 0, 1, 1, 0, 1, 0],\n",
    "                 [1, 0, 1, 0, 0, 0, 1, 0, 1, 0, 0, 0],\n",
    "                 [1, 1, 0, 0, 0, 0, 1, 0, 0, 0, 0, 0],\n",
    "                 [0, 0, 0, 0, 1, 1, 0, 1, 0, 0, 0, 0],\n",
    "                 [0, 0, 0, 1, 0, 0, 1, 0, 1, 0, 0, 1],\n",
    "                 [0, 0, 0, 1, 1, 0, 0, 1, 0, 1, 0, 0],\n",
    "                 [0, 0, 0, 0, 0, 0, 0, 0, 1, 0, 0, 0],\n",
    "                 [0, 0, 0, 1, 0, 0, 0, 0, 0, 0, 0, 0],\n",
    "                 [0, 0, 1, 0, 0, 0, 0, 1, 0, 0, 0, 0]\n",
    "]"
   ]
  },
  {
   "cell_type": "markdown",
   "metadata": {},
   "source": [
    "# Zadanie 1"
   ]
  },
  {
   "cell_type": "markdown",
   "metadata": {},
   "source": [
    "### Funkcja from_list_to_matrix_neighbour konwertuje listę sąsiedztwa na macierz sąsiedztwa. Na wejściu przyjmuje listę sąsiedztwa w postaci słownika, którego kluczem jest indeks wierzchołka a wartością tablica przechowująca indeksy wierzchołków sąsiednich. Zwraca macierz sąsiedztwa w postaci tablicy tablic. "
   ]
  },
  {
   "cell_type": "code",
   "execution_count": 67,
   "metadata": {},
   "outputs": [],
   "source": [
    "def from_list_to_matrix_neighbour(list):\n",
    "    matrix = []\n",
    "    length = len(list)\n",
    "    for elements in list.values():\n",
    "        row = []\n",
    "        for i in range(1, length + 1):\n",
    "            if i in elements:\n",
    "                row.append(1)\n",
    "            else :\n",
    "                row.append(0)\n",
    "        matrix.append(row)\n",
    "    #print_matrix(matrix)\n",
    "    return matrix"
   ]
  },
  {
   "cell_type": "markdown",
   "metadata": {},
   "source": [
    "### Funkcje from_matrix_neighbour_to_list konwertuje macierz sąsiedztwa na listę sąsiedztwa. Na wejściu przyjmuje macierz sąsiedztwa w postaci tablicy tablic. Na wyjściu zwraca listę sąsiedztwa w postaci słownika którego kluczem jest indeks wierzchołka, zaś wartością jest tablica przechowująca indeksy sąsiednich wierzchołków."
   ]
  },
  {
   "cell_type": "code",
   "execution_count": 68,
   "metadata": {},
   "outputs": [],
   "source": [
    "def from_matrix_neighbour_to_list(matrix):\n",
    "    list = {}\n",
    "\n",
    "    i = 0\n",
    "    for row in matrix:\n",
    "        i += 1\n",
    "        row_list = []\n",
    "        lenght = len(row)\n",
    "        for j in range(lenght):\n",
    "            if row[j] == 1:\n",
    "                row_list.append(j + 1)\n",
    "        list[i] = row_list\n",
    "    return list"
   ]
  },
  {
   "cell_type": "markdown",
   "metadata": {},
   "source": [
    "### Funkcja from_list_to_incidence_matrix konwertuje listę sąsiedztwa na macierz incydencji. Na wejściu przyjmuje listę sąsiedztwa w postaci słownika którego kluczem jest indeks wierzchołka, zaś wartością jest tablica przechowująca indeksy sąsiednich wierzchołków. Na wyjściu zwraca macierz incydencji w postaci tablicy tablic."
   ]
  },
  {
   "cell_type": "code",
   "execution_count": 69,
   "metadata": {},
   "outputs": [],
   "source": [
    "def from_list_to_incidence_matrix(list):\n",
    "    matrix = []\n",
    "\n",
    "    for key, value in list.items():\n",
    "        ranger = key        #ranger check if we do not use element used\n",
    "                            # in previous iterations to prevent from doubling same row\n",
    "        for elem in value:\n",
    "            if ranger < elem:\n",
    "                row = [0] * len(list)\n",
    "                row[key - 1] = 1\n",
    "                row[elem - 1] = 1\n",
    "                matrix.append(row)\n",
    "\n",
    "    #print_matrix(matrix)\n",
    "    return matrix\n"
   ]
  },
  {
   "cell_type": "markdown",
   "metadata": {},
   "source": [
    "### Funkcja from_incidence_matrix_to_list konwertuje macierz incydencji na listę sąsiedztwa. Na wejściu przyjmuje macierz incydencji w postaci tablicy tablic. Na wyjściu zwraca listę sąsiedztwa w postaci słownika którego kluczem jest indeks wierzchołka, zaś wartością jest tablica przechowująca indeksy sąsiednich wierzchołków."
   ]
  },
  {
   "cell_type": "code",
   "execution_count": 70,
   "metadata": {},
   "outputs": [],
   "source": [
    "def from_incidence_matrix_to_list(matrix):\n",
    "    list = {}\n",
    "    for row in matrix:\n",
    "        i = -1\n",
    "        j = -1\n",
    "        for k in range(len(row)):\n",
    "            if row[k] == 1:\n",
    "                if i != -1:\n",
    "                  j = k + 1\n",
    "                else:\n",
    "                    i = k + 1\n",
    "        if i in list:\n",
    "            list[i].append(j)\n",
    "        else:\n",
    "            list[i] = [j]\n",
    "\n",
    "        if j in list:\n",
    "            list[j].append(i)\n",
    "        else:\n",
    "            list[j] = [i]\n",
    "\n",
    "    l = {}\n",
    "    for key in sorted(list):\n",
    "        l[key] = list[key]\n",
    "    list = l\n",
    "    #print_list(list)\n",
    "    return list"
   ]
  },
  {
   "cell_type": "markdown",
   "metadata": {},
   "source": [
    "## Testy"
   ]
  },
  {
   "cell_type": "code",
   "execution_count": 71,
   "metadata": {},
   "outputs": [
    {
     "data": {
      "text/plain": [
       "[[0, 1, 0, 0, 1],\n",
       " [1, 0, 1, 0, 1],\n",
       " [0, 1, 0, 1, 0],\n",
       " [0, 0, 1, 0, 1],\n",
       " [1, 1, 0, 1, 0]]"
      ]
     },
     "execution_count": 71,
     "metadata": {},
     "output_type": "execute_result"
    }
   ],
   "source": [
    "from_list_to_matrix_neighbour(neighbour_list)"
   ]
  },
  {
   "cell_type": "code",
   "execution_count": 72,
   "metadata": {
    "scrolled": true
   },
   "outputs": [
    {
     "data": {
      "text/plain": [
       "{1: [2, 5, 6],\n",
       " 2: [1, 3, 6],\n",
       " 3: [2, 4, 5, 12],\n",
       " 4: [3, 8, 9, 11],\n",
       " 5: [1, 3, 7, 9],\n",
       " 6: [1, 2, 7],\n",
       " 7: [5, 6, 8],\n",
       " 8: [4, 7, 9, 12],\n",
       " 9: [4, 5, 8, 10],\n",
       " 10: [9],\n",
       " 11: [4],\n",
       " 12: [3, 8]}"
      ]
     },
     "execution_count": 72,
     "metadata": {},
     "output_type": "execute_result"
    }
   ],
   "source": [
    "from_matrix_neighbour_to_list(example)"
   ]
  },
  {
   "cell_type": "code",
   "execution_count": 73,
   "metadata": {
    "scrolled": true
   },
   "outputs": [
    {
     "data": {
      "text/plain": [
       "[[0, 1, 0, 0, 1, 1, 0, 0, 0, 0, 0, 0],\n",
       " [1, 0, 1, 0, 0, 1, 0, 0, 0, 0, 0, 0],\n",
       " [0, 1, 0, 1, 1, 0, 0, 0, 0, 0, 0, 1],\n",
       " [0, 0, 1, 0, 0, 0, 0, 1, 1, 0, 1, 0],\n",
       " [1, 0, 1, 0, 0, 0, 1, 0, 1, 0, 0, 0],\n",
       " [1, 1, 0, 0, 0, 0, 1, 0, 0, 0, 0, 0],\n",
       " [0, 0, 0, 0, 1, 1, 0, 1, 0, 0, 0, 0],\n",
       " [0, 0, 0, 1, 0, 0, 1, 0, 1, 0, 0, 1],\n",
       " [0, 0, 0, 1, 1, 0, 0, 1, 0, 1, 0, 0],\n",
       " [0, 0, 0, 0, 0, 0, 0, 0, 1, 0, 0, 0],\n",
       " [0, 0, 0, 1, 0, 0, 0, 0, 0, 0, 0, 0],\n",
       " [0, 0, 1, 0, 0, 0, 0, 1, 0, 0, 0, 0]]"
      ]
     },
     "execution_count": 73,
     "metadata": {},
     "output_type": "execute_result"
    }
   ],
   "source": [
    "list = from_matrix_neighbour_to_list(example)\n",
    "from_list_to_matrix_neighbour(list)"
   ]
  },
  {
   "cell_type": "markdown",
   "metadata": {},
   "source": [
    "# Zadanie 2"
   ]
  },
  {
   "cell_type": "code",
   "execution_count": 74,
   "metadata": {},
   "outputs": [],
   "source": [
    "array = np.matrix(example)"
   ]
  },
  {
   "cell_type": "markdown",
   "metadata": {},
   "source": [
    "### Funkcja calculate_nodes_position wyznacza pozycje wierzchołków grafów. Na wejściu przyjmuje liczbę wierzchołków. Zwraca słownik, którego kluczem jest numer wierzchołka zaś wartością jest krotka zawierająca współrzędne wierzchołka."
   ]
  },
  {
   "cell_type": "code",
   "execution_count": 75,
   "metadata": {},
   "outputs": [],
   "source": [
    "def calculate_nodes_position(n_of_nodes):\n",
    "    nodes = {}\n",
    "    for n in range(0, n_of_nodes):\n",
    "        x = math.cos(2 * math.pi / n_of_nodes * n)\n",
    "        y = math.sin(2 * math.pi / n_of_nodes * n)\n",
    "        nodes.update({n: (x, y)})\n",
    "    return nodes"
   ]
  },
  {
   "cell_type": "markdown",
   "metadata": {},
   "source": [
    "### Funkcja create_graph_visualization na podstawie macierzy sąsiedztwa wyznacza ilość wierzchołków oraz pozycje poszczególnych wierzchołków, a następnie rysuje graf. Przyjmuje na wejściu macierz sąsiedztwa w postaci numpy matrix. Funkcja nic nie zwraca."
   ]
  },
  {
   "cell_type": "code",
   "execution_count": 76,
   "metadata": {},
   "outputs": [],
   "source": [
    "def create_graph_visualization(matrix):\n",
    "    sizes = matrix.shape\n",
    "    if len(sizes) != 2 or sizes[0] != sizes[1]:\n",
    "        print(\"Incorrect matrix!\")\n",
    "        return\n",
    "    if len(matrix) > 0:\n",
    "        nodes = calculate_nodes_position(len(matrix))\n",
    "        plt.figure(figsize=(5, 5))\n",
    "        graph_visualization = nx.from_numpy_matrix(matrix)\n",
    "        nx.draw_networkx(graph_visualization, nodes)\n",
    "        plt.show()\n",
    "    else:\n",
    "        print(\"Empty matrix!\")"
   ]
  },
  {
   "cell_type": "markdown",
   "metadata": {},
   "source": [
    "## Testy"
   ]
  },
  {
   "cell_type": "code",
   "execution_count": 77,
   "metadata": {},
   "outputs": [
    {
     "name": "stdout",
     "output_type": "stream",
     "text": [
      "Incorrect matrix!\n"
     ]
    }
   ],
   "source": [
    "create_graph_visualization(np.array([]))"
   ]
  },
  {
   "cell_type": "code",
   "execution_count": 78,
   "metadata": {},
   "outputs": [
    {
     "name": "stdout",
     "output_type": "stream",
     "text": [
      "Incorrect matrix!\n"
     ]
    }
   ],
   "source": [
    "create_graph_visualization(np.array([[0, 0, 0]]))"
   ]
  },
  {
   "cell_type": "code",
   "execution_count": 79,
   "metadata": {
    "scrolled": false
   },
   "outputs": [
    {
     "data": {
      "image/png": "[encoded data removed]",
      "text/plain": [
       "<Figure size 360x360 with 1 Axes>"
      ]
     },
     "metadata": {},
     "output_type": "display_data"
    }
   ],
   "source": [
    "create_graph_visualization(array)"
   ]
  },
  {
   "cell_type": "markdown",
   "metadata": {},
   "source": [
    "# Zadanie 3"
   ]
  },
  {
   "cell_type": "markdown",
   "metadata": {},
   "source": [
    "### Funkcja rand_graph_A zwraca losowy graf o zadanej ilości krawędzi i liczbie wierzchołków. Przyjmuje na wejściu n - ilość wierzchołków i l - ilość krawędzi. Funkcja zwraca graf w postaci macierzy sąsiedztwa"
   ]
  },
  {
   "cell_type": "code",
   "execution_count": 80,
   "metadata": {},
   "outputs": [],
   "source": [
    "def rand_graph_A(n,l):\n",
    "    if n == 0:\n",
    "        matrix = [[]]\n",
    "    else:\n",
    "        matrix = [[0 for i in range(n)] for j in range(n)]\n",
    "        iter = 0\n",
    "        while(l > 0):\n",
    "            i = randrange(0, n)\n",
    "            j = randrange(0, n)\n",
    "            if matrix[i][j] == 0 and i != j:\n",
    "                matrix[i][j] = 1\n",
    "                matrix[j][i] = 1\n",
    "                l = l - 1\n",
    "            else:\n",
    "                iter = iter + 1\n",
    "            if iter > 1000:\n",
    "                print(\"Couldn't create matrix!\")\n",
    "                matrix = [[]]\n",
    "                break\n",
    "\n",
    "    return matrix"
   ]
  },
  {
   "cell_type": "markdown",
   "metadata": {},
   "source": [
    "### Funkcja rand_graph_B zwraca losowy graf o zadanej liczbie wierzchołków i zadanym prawdobodobieństwie. Przyjmuje na wejściu n - liczbę wierzchołków i p - wartość prawdopodobieństwa. Funkcja zwraca graf w postaci macierzy sąsiedztwa"
   ]
  },
  {
   "cell_type": "code",
   "execution_count": 81,
   "metadata": {},
   "outputs": [],
   "source": [
    "def rand_graph_B(n,p):\n",
    "    matrix = [[0 for i in range(n)] for j in range(n)]\n",
    "    for i in range(n):\n",
    "        for j in range(i+1,n):\n",
    "            if(p > random()):\n",
    "                matrix[i][j] = 1\n",
    "                matrix[j][i] = 1\n",
    "    return matrix"
   ]
  },
  {
   "cell_type": "markdown",
   "metadata": {},
   "source": [
    "## Testy"
   ]
  },
  {
   "cell_type": "code",
   "execution_count": 82,
   "metadata": {},
   "outputs": [
    {
     "name": "stdout",
     "output_type": "stream",
     "text": [
      "Incorrect matrix!\n"
     ]
    }
   ],
   "source": [
    "matrix = rand_graph_A(0, 0)\n",
    "create_graph_visualization(np.matrix(matrix))"
   ]
  },
  {
   "cell_type": "code",
   "execution_count": 83,
   "metadata": {},
   "outputs": [
    {
     "data": {
      "image/png": "[encoded data removed]",
      "text/plain": [
       "<Figure size 360x360 with 1 Axes>"
      ]
     },
     "metadata": {},
     "output_type": "display_data"
    }
   ],
   "source": [
    "matrix = rand_graph_A(3, 0)\n",
    "create_graph_visualization(np.matrix(matrix))"
   ]
  },
  {
   "cell_type": "code",
   "execution_count": 84,
   "metadata": {},
   "outputs": [
    {
     "data": {
      "image/png": "[encoded data removed]",
      "text/plain": [
       "<Figure size 360x360 with 1 Axes>"
      ]
     },
     "metadata": {},
     "output_type": "display_data"
    }
   ],
   "source": [
    "matrix = rand_graph_A(4, 5)\n",
    "create_graph_visualization(np.matrix(matrix))"
   ]
  },
  {
   "cell_type": "code",
   "execution_count": 85,
   "metadata": {},
   "outputs": [
    {
     "name": "stdout",
     "output_type": "stream",
     "text": [
      "Incorrect matrix!\n"
     ]
    }
   ],
   "source": [
    "matrix = rand_graph_A(0, 1)\n",
    "create_graph_visualization(np.matrix(matrix))"
   ]
  },
  {
   "cell_type": "code",
   "execution_count": 86,
   "metadata": {},
   "outputs": [
    {
     "name": "stdout",
     "output_type": "stream",
     "text": [
      "Couldn't create matrix!\n",
      "Incorrect matrix!\n"
     ]
    }
   ],
   "source": [
    "matrix = rand_graph_A(3, 15)\n",
    "create_graph_visualization(np.matrix(matrix))"
   ]
  },
  {
   "cell_type": "code",
   "execution_count": 87,
   "metadata": {},
   "outputs": [
    {
     "name": "stdout",
     "output_type": "stream",
     "text": [
      "Incorrect matrix!\n"
     ]
    }
   ],
   "source": [
    "matrix = rand_graph_B(0, 0.0)\n",
    "create_graph_visualization(np.matrix(matrix))"
   ]
  },
  {
   "cell_type": "code",
   "execution_count": 88,
   "metadata": {},
   "outputs": [
    {
     "data": {
      "image/png": "[encoded data removed]",
      "text/plain": [
       "<Figure size 360x360 with 1 Axes>"
      ]
     },
     "metadata": {},
     "output_type": "display_data"
    }
   ],
   "source": [
    "matrix = rand_graph_B(2, 0.0)\n",
    "create_graph_visualization(np.matrix(matrix))"
   ]
  },
  {
   "cell_type": "code",
   "execution_count": 89,
   "metadata": {},
   "outputs": [
    {
     "data": {
      "image/png": "[encoded data removed]",
      "text/plain": [
       "<Figure size 360x360 with 1 Axes>"
      ]
     },
     "metadata": {},
     "output_type": "display_data"
    }
   ],
   "source": [
    "matrix = rand_graph_B(5, 0.0)\n",
    "create_graph_visualization(np.matrix(matrix))"
   ]
  },
  {
   "cell_type": "code",
   "execution_count": 90,
   "metadata": {},
   "outputs": [
    {
     "data": {
      "image/png": "[encoded data removed]",
      "text/plain": [
       "<Figure size 360x360 with 1 Axes>"
      ]
     },
     "metadata": {},
     "output_type": "display_data"
    }
   ],
   "source": [
    "matrix = rand_graph_B(5, 1.0)\n",
    "create_graph_visualization(np.matrix(matrix))"
   ]
  },
  {
   "cell_type": "code",
   "execution_count": 91,
   "metadata": {},
   "outputs": [
    {
     "data": {
      "image/png": "[encoded data removed]",
      "text/plain": [
       "<Figure size 360x360 with 1 Axes>"
      ]
     },
     "metadata": {},
     "output_type": "display_data"
    }
   ],
   "source": [
    "matrix = rand_graph_B(5, 0.3)\n",
    "create_graph_visualization(np.matrix(matrix))"
   ]
  },
  {
   "cell_type": "code",
   "execution_count": null,
   "metadata": {},
   "outputs": [],
   "source": []
  }
 ],
 "metadata": {
  "kernelspec": {
   "display_name": "Python [conda env:lab2]",
   "language": "python",
   "name": "conda-env-lab2-py"
  },
  "language_info": {
   "codemirror_mode": {
    "name": "ipython",
    "version": 3
   },
   "file_extension": ".py",
   "mimetype": "text/x-python",
   "name": "python",
   "nbconvert_exporter": "python",
   "pygments_lexer": "ipython3",
   "version": "3.7.8"
  }
 },
 "nbformat": 4,
 "nbformat_minor": 4
}
