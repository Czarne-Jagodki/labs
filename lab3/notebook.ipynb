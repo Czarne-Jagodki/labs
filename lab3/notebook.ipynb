{
 "cells": [
  {
   "cell_type": "markdown",
   "metadata": {},
   "source": [
    "# Klasa wierzchołka - Vertex"
   ]
  },
  {
   "cell_type": "code",
   "execution_count": 3,
   "metadata": {},
   "outputs": [],
   "source": [
    "class Vertex:\n",
    "    \"\"\"\n",
    "    Klasa reprezentujaca wierzcholek\n",
    "    \"\"\"\n",
    "    id: int\n",
    "    visited: bool\n",
    "\n",
    "    def __init__(self, given_id: int = None, visited: bool = False) -> None:\n",
    "        \"\"\"\n",
    "        Inicjalizacja wierzcholka\n",
    "        :param given_id: id wierzcholka czyli jego numer\n",
    "        :param visited: czy odwiedzony\n",
    "        \"\"\"\n",
    "        self.id = given_id\n",
    "        self.visited = visited\n",
    "\n",
    "    def __hash__(self) -> int:\n",
    "        \"\"\"\n",
    "        <! Wymagane bo inaczej blad unhashable type !>\n",
    "        Hashuje id wierzcholka\n",
    "        :return: zwraca zhashowany numer (id) wierzcholka\n",
    "        \"\"\"\n",
    "        return hash(self.id)\n",
    "\n",
    "    def get_id(self) -> int:\n",
    "        \"\"\"\n",
    "        Zwraca id wierzcholka (numer)\n",
    "        :return: id wierzcholka\n",
    "        \"\"\"\n",
    "        return self.id"
   ]
  },
  {
   "cell_type": "markdown",
   "metadata": {},
   "source": [
    "# Klasa krawędzi - Edge"
   ]
  },
  {
   "cell_type": "code",
   "execution_count": 4,
   "metadata": {},
   "outputs": [],
   "source": [
    "class Edge:\n",
    "    \"\"\"\n",
    "    Klasa reprezentujaca krawedz\n",
    "    \"\"\"\n",
    "    vertices: tuple\n",
    "    weight: int\n",
    "    visited: bool\n",
    "\n",
    "    def __init__(self, first_vertex: Vertex, second_vertex: Vertex, weight: int = 1, visited: bool = False) -> None:\n",
    "        \"\"\"\n",
    "        Inicjalizacja krawedzi\n",
    "        :param first_vertex: id pierwszego wierzcholka\n",
    "        :param second_vertex: id drugiego wierzcholka\n",
    "        :param weight: waga krawedzi\n",
    "        :param visited: czy krawedz odwiedzona\n",
    "        \"\"\"\n",
    "        self.vertices = (first_vertex, second_vertex)\n",
    "        self.visited = visited\n",
    "        self.weight = weight\n",
    "\n",
    "    def get_vertices_ids(self) -> tuple:\n",
    "        \"\"\"\n",
    "        Zwraca tuple wierzchołków, które krawędź łączy\n",
    "        \"\"\"\n",
    "        return self.vertices\n",
    "\n",
    "    def get_weight(self) -> int:\n",
    "        \"\"\"\n",
    "        Zwraca wagę krawędzi\n",
    "        \"\"\"\n",
    "        return self.weight"
   ]
  },
  {
   "cell_type": "markdown",
   "metadata": {},
   "source": [
    "# Klasa grafu - Graph"
   ]
  },
  {
   "cell_type": "code",
   "execution_count": 5,
   "metadata": {},
   "outputs": [],
   "source": [
    "import pickle\n",
    "from typing import List, Set\n",
    "\n",
    "\n",
    "class Graph:\n",
    "    \"\"\"\n",
    "       Klasa reprezentujaca Graf\n",
    "    \"\"\"\n",
    "    edges: List[Edge]\n",
    "    vertices: Set[Vertex]\n",
    "    weighted: bool\n",
    "\n",
    "    def __init__(self, edges: List[Edge] = None, vertices: Set[Vertex] = None, weighted=False):\n",
    "        \"\"\"\n",
    "        Inicjalizacja grafu\n",
    "        :param edges: krawedzie\n",
    "        :param vertices: wezly\n",
    "        :param weighted: czy krawedzie maja wagi\n",
    "        \"\"\"\n",
    "        if edges is None:\n",
    "            edges = []\n",
    "        if vertices is None:\n",
    "            vertices = set()\n",
    "        self.edges = edges\n",
    "        self.vertices = vertices\n",
    "        self.weighted = weighted\n",
    "\n",
    "    def add_vertex(self, vertex: Vertex):\n",
    "        \"\"\"\n",
    "        Dodaje nowy wezel\n",
    "        :param vertex: wezel\n",
    "        \"\"\"\n",
    "        self.vertices.add(vertex)\n",
    "\n",
    "    def add_edges(self, edges: Set[tuple]):\n",
    "        \"\"\"\n",
    "        Dodaje krawedzie\n",
    "        :param edges: zbior tupli wierzcholkow lub wierzcholkow i wagi\n",
    "        \"\"\"\n",
    "        for edge in edges:\n",
    "            # tutaj dodajemy krawedzie do grafu\n",
    "            has_edge = None\n",
    "            for x in self.edges:\n",
    "                # jesli krawedz juz zostala dodana do grafu to wychodzimy z wewnetrznej petli i\n",
    "                # sprawdzamy kolejna krawedz ze zbioru krawedzi ktore chcemy dodac\n",
    "                if (x.get_vertices_ids()[0] == edge[1] and x.get_vertices_ids()[1] == edge[0]) or (\n",
    "                        x.get_vertices_ids()[0] == edge[0] and x.get_vertices_ids()[1] == edge[1]):\n",
    "                    has_edge = x\n",
    "                    break\n",
    "            # jesli nie to dodajemy brakujaca krawedz\n",
    "            if has_edge is None:\n",
    "                if self.weighted:\n",
    "                    self.edges.append(Edge(edge[0], edge[1], edge[2]))\n",
    "                else:\n",
    "                    self.edges.append(Edge(edge[0], edge[1]))\n",
    "\n",
    "    def get_edges(self) -> List[Edge]:\n",
    "        \"\"\"\n",
    "        Zwraca liste krawedzi\n",
    "        \"\"\"\n",
    "        return self.edges\n",
    "\n",
    "    def get_vertices(self) -> Set[Vertex]:\n",
    "        \"\"\"\n",
    "        Zwraca zbior wezlow\n",
    "        \"\"\"\n",
    "        return self.vertices\n",
    "\n",
    "    def dfs(self, temp: List[int], v: int, visited: List[bool]) -> List[int]:\n",
    "        \"\"\"\n",
    "        Algorytm przeszukiwania w glab\n",
    "        :return: lista wierzcholkow tworzacych spojna skladowa\n",
    "        \"\"\"\n",
    "        # ustaw obecny wierzcholek na odwiedzony\n",
    "        visited[v] = True\n",
    "\n",
    "        # dodaj wierzcholek do listy\n",
    "        temp.append(v)\n",
    "\n",
    "        # znajdujemy sasiadow wierzcholka v\n",
    "        list_of_neigbours = self.find_neighbours(v)\n",
    "\n",
    "        # powtorz dla kazdego wierzcholka bedacego sasiadem v ktorego jeszcze nie odwiedzilismy\n",
    "        for i in list_of_neigbours:\n",
    "            if not visited[i]:\n",
    "                # zaktualizuj liste\n",
    "                temp = self.dfs(temp, i, visited)\n",
    "        return temp\n",
    "\n",
    "    def connected_components(self) -> List[List[int]]:\n",
    "        \"\"\"\n",
    "        Zwraca liste spojnych skladowych\n",
    "        \"\"\"\n",
    "        visited = [False] * len(self.get_vertices())\n",
    "        components = []\n",
    "        for v in range(len(self.get_vertices())):\n",
    "            if not visited[v]:\n",
    "                temp = []\n",
    "                components.append(self.dfs(temp, v, visited))\n",
    "        return components\n",
    "\n",
    "    def is_consistent(self) -> bool:\n",
    "        \"\"\"\n",
    "        Sprawdza czy graf jest spojny\n",
    "        :return: prawda/falsz\n",
    "        \"\"\"\n",
    "        # jezeli graf ma jedna spojna skladowa -> jest spojny\n",
    "        return len(self.connected_components()) == 1\n",
    "\n",
    "    def is_weighted(self) -> bool:\n",
    "        \"\"\"\n",
    "        Zwraca informacje czy krawedzie grafu maja wagi\n",
    "        :return: prawda/falsz\n",
    "        \"\"\"\n",
    "        return self.weighted\n",
    "\n",
    "    def find_neighbours(self, vertex_id) -> List[int]:\n",
    "        \"\"\"\n",
    "        Znajduje sasiadow danego wierzcholka w zadanym grafie\n",
    "        :param vertex_id: id wierzcholka, dla ktorego znajdujemy sasiadow\n",
    "        :return: lista sasiadow\n",
    "        \"\"\"\n",
    "        neighbours = []\n",
    "        edges = self.get_edges()\n",
    "        for edge in edges:\n",
    "            tuple_of_vertices = edge.get_vertices_ids()\n",
    "            # jezeli wierzcholek obecny w krawedzi, drugi wierzcholek jest jego sasiadem\n",
    "            if tuple_of_vertices[0].get_id() == vertex_id:\n",
    "                neighbours.append(tuple_of_vertices[1].get_id())\n",
    "                continue\n",
    "            # analogicznie\n",
    "            if tuple_of_vertices[1].get_id() == vertex_id:\n",
    "                neighbours.append(tuple_of_vertices[0].get_id())\n",
    "                continue\n",
    "        return neighbours\n",
    "\n",
    "    def find_edge(self, first_vertex: int, second_vertex: int) -> Edge:\n",
    "        \"\"\"\n",
    "        Znajduje i zwraca krawedz dwoch wierzcholkow\n",
    "        \"\"\"\n",
    "        for edge in self.get_edges():\n",
    "            vertices = edge.get_vertices_ids()\n",
    "            vertex_1 = vertices[0].get_id()\n",
    "            vertex_2 = vertices[1].get_id()\n",
    "            if (vertex_1 == first_vertex and vertex_2 == second_vertex) or (\n",
    "                    vertex_1 == second_vertex and vertex_2 == first_vertex):\n",
    "                return edge\n",
    "\n",
    "    def save_to_file(self, filename: str = 'graph.txt') -> None:\n",
    "        \"\"\"\n",
    "        Funkcja zapisuje graf do pliku txt\n",
    "        \"\"\"\n",
    "        file = open(filename, 'wb')\n",
    "        pickle.dump(self, file)\n",
    "        file.close()\n",
    "\n",
    "\n",
    "    def load_from_file(filename: str):\n",
    "        \"\"\"\n",
    "        Funkcja odczytuje graf z pliku txt\n",
    "        \"\"\"\n",
    "        file = open(filename, 'rb')\n",
    "        return pickle.load(file)"
   ]
  },
  {
   "cell_type": "markdown",
   "metadata": {},
   "source": [
    "# Zadanie 1. Implementacja"
   ]
  },
  {
   "cell_type": "code",
   "execution_count": 6,
   "metadata": {},
   "outputs": [
    {
     "name": "stdout",
     "output_type": "stream",
     "text": [
      "Defaulting to user installation because normal site-packages is not writeable\n",
      "Requirement already satisfied: networkx in /home/befilosz/.local/lib/python3.7/site-packages (2.5.1)\n",
      "Requirement already satisfied: decorator<5,>=4.3 in /home/befilosz/.local/lib/python3.7/site-packages (from networkx) (4.4.2)\n",
      "Note: you may need to restart the kernel to use updated packages.\n"
     ]
    }
   ],
   "source": [
    "pip install networkx"
   ]
  },
  {
   "cell_type": "code",
   "execution_count": 36,
   "metadata": {},
   "outputs": [],
   "source": [
    "from Graph import Graph\n",
    "from Edge import Edge\n",
    "from Vertex import Vertex\n",
    "from itertools import combinations\n",
    "from random import sample, randint\n",
    "import matplotlib.pyplot as plt\n",
    "import networkx as nx\n",
    "\n",
    "\n",
    "def create_rand_consistent_weighted_graph(n: int = 5) -> Graph:\n",
    "    \"\"\"\n",
    "    Funkcja tworzaca spojny graf losowy o zadanej liczbie wierczholkow i krawedziach o wadze pomiedzy\n",
    "    weight_min a weight_max\n",
    "    :param n: liczba wierzcholkow\n",
    "    :param nr_of_edges: liczba krawedzi grafu\n",
    "    :return: gotowy graf\n",
    "    \"\"\"\n",
    "    \n",
    "    # przedzialy wag krawedzi\n",
    "    weight_min = 1\n",
    "    weight_max = 10\n",
    "\n",
    "    vertices = set([v for v in range(n)])  # zbior numerow wierzcholkow\n",
    "    edges = set()  # zbior krawedzi (tupli o 3 polach) zlozonych z 2 wierczholkow i losowej wagi\n",
    "\n",
    "    if(n < 0):\n",
    "        n = 0\n",
    "    min_edges = n-1  # minimalna liczba krawedzi\n",
    "    max_edges = (n * (n - 1)) / 2  # maksymalna liczba krawedzi\n",
    "\n",
    "    # losujemy liczbe krawedzi z przedzialu <min, max> (wlacznie)\n",
    "    try:\n",
    "        nr_of_edges = randint(min_edges, max_edges)\n",
    "    except ValueError:\n",
    "        nr_of_edges = 0\n",
    "    print(f\"Liczba wierzchołków: {n}\\nLiczba krawędzi: {nr_of_edges}\")\n",
    "\n",
    "    if nr_of_edges == 0:\n",
    "        return Graph()\n",
    "    \n",
    "    while True:\n",
    "        # stworzenie wszystkich mozliwych 2-elementowych kombinacji wierzcholkow w postaci tupli\n",
    "        vertex_comb = combinations(vertices, 2)\n",
    "\n",
    "        # losowe wybranie kombinacji 2 wierzcholkow z listy vertex_comb, 'nr_of_edges' razy, czyli dla kazdej krawedzi\n",
    "        rand_comb = sample(list(vertex_comb), nr_of_edges)\n",
    "\n",
    "        # dodajemy do zbioru 'edges', tuple z wierzcholkami i waga\n",
    "        for comb in rand_comb:\n",
    "            edges.add((Vertex(comb[0]),\n",
    "                       Vertex(comb[1]),\n",
    "                       randint(weight_min, weight_max)))\n",
    "\n",
    "        # tworzymy pusty graf wazony\n",
    "        graph = Graph(weighted=True)\n",
    "\n",
    "        # dodajemy wszystkie wierzcholki\n",
    "        for vertex_id in vertices:\n",
    "            graph.add_vertex(Vertex(vertex_id))\n",
    "\n",
    "        # dodajemy krawedzie z naszych kombinacji\n",
    "        graph.add_edges(edges)\n",
    "\n",
    "        # powtarzamy proces dopoki graf nie bedzie spojny\n",
    "        if graph.is_consistent():\n",
    "            return graph\n",
    "\n",
    "\n",
    "def draw(graph: Graph, filename: str = None):\n",
    "    \"\"\"\n",
    "    Funkcja odpowiada za narysowanie grafu\n",
    "    :param graph: graf do narysowania\n",
    "    :param filename: opcjonalna nazwa pliku do zapisu w nim rysunku\n",
    "    \"\"\"\n",
    "    # pusty graf\n",
    "    nx_graph = nx.Graph()\n",
    "\n",
    "    # dodanie wierzcholkow do grafu\n",
    "    for vertex in graph.get_vertices():\n",
    "        nx_graph.add_node(vertex.get_id())\n",
    "\n",
    "    # dodanie krawedzi do grafu\n",
    "    for edge in graph.get_edges():\n",
    "        vertices_ids = edge.get_vertices_ids()\n",
    "        if graph.is_weighted():\n",
    "            nx_graph.add_edge(vertices_ids[0].get_id(), vertices_ids[1].get_id(), weight=edge.get_weight())\n",
    "        else:\n",
    "            nx_graph.add_edge(vertices_ids[0].get_id(), vertices_ids[1].get_id())\n",
    "\n",
    "    # ustawienie numerow wierzcholkow\n",
    "    labels = {}\n",
    "    color_map = []\n",
    "    for i in range(len(graph.get_vertices())):\n",
    "        color_map.append('orange')\n",
    "        labels[i] = i\n",
    "    # pozycjonowanie na okregu\n",
    "    pos = nx.circular_layout(nx_graph)  \n",
    "    \n",
    "    # narysowanie grafu\n",
    "    nx.draw(nx_graph,  pos, node_color=color_map, labels=labels)\n",
    "\n",
    "    # dodanie wag krawedzi do rysunku\n",
    "    if graph.is_weighted():\n",
    "        nx.draw_networkx_edge_labels(nx_graph, pos, edge_labels=nx.get_edge_attributes(nx_graph, \"weight\"),\n",
    "                                     label_pos=0.5)\n",
    "\n",
    "    plt.axis(\"equal\")  # symetrycznosc\n",
    "\n",
    "    # ewentualny zapis do pliku\n",
    "    if filename is not None:\n",
    "        plt.savefig(filename, format=\"png\")\n",
    "    plt.show()\n",
    "\n",
    "    # wyczyszczenie\n",
    "    plt.clf()"
   ]
  },
  {
   "cell_type": "markdown",
   "metadata": {},
   "source": [
    "   # Zadanie 1. Przykład wywołania"
   ]
  },
  {
   "cell_type": "code",
   "execution_count": 39,
   "metadata": {
    "pycharm": {
     "name": "#%%\n"
    }
   },
   "outputs": [
    {
     "name": "stdout",
     "output_type": "stream",
     "text": [
      "\n",
      "Zestaw 3, zadanie 1 - spójny losowy graf ważony:\n",
      "Liczba wierzchołków: 7\n",
      "Liczba krawędzi: 10\n"
     ]
    },
    {
     "data": {
      "image/png": "[encoded data removed]",
      "text/plain": [
       "<Figure size 432x288 with 1 Axes>"
      ]
     },
     "metadata": {},
     "output_type": "display_data"
    },
    {
     "data": {
      "text/plain": [
       "<Figure size 432x288 with 0 Axes>"
      ]
     },
     "metadata": {},
     "output_type": "display_data"
    }
   ],
   "source": [
    "print(\"\\nZestaw 3, zadanie 1 - spójny losowy graf ważony:\")\n",
    "graph = create_rand_consistent_weighted_graph(7)\n",
    "draw(graph)"
   ]
  },
  {
   "cell_type": "code",
   "execution_count": 43,
   "metadata": {
    "scrolled": true
   },
   "outputs": [
    {
     "name": "stdout",
     "output_type": "stream",
     "text": [
      "\n",
      "Zestaw 3, zadanie 2 - Dijkstra:\n",
      "START: s = 2\n",
      "d(0) = 15 ==> [2, 1, 0]\n",
      "d(1) = 10 ==> [2, 1]\n",
      "d(2) = 0 ==> [2]\n",
      "d(3) = 3 ==> [2, 3]\n",
      "d(4) = 3 ==> [2, 4]\n",
      "d(5) = 6 ==> [2, 5]\n",
      "d(6) = 8 ==> [2, 5, 6]\n"
     ]
    }
   ],
   "source": [
    "# Zadanie 2. Implementacja"
   ]
  },
  {
   "cell_type": "markdown",
   "metadata": {},
   "source": [
    "# Zadanie 3. Implementacja"
   ]
  },
  {
   "cell_type": "code",
   "execution_count": 44,
   "metadata": {},
   "outputs": [],
   "source": [
    "from typing import List\n",
    "\n",
    "\n",
    "def create_distances_matrix(g: Graph) -> List[List[int]]:\n",
    "    \"\"\"\n",
    "    Funkcja tworzy i zwraca macierz odleglosci\n",
    "    \"\"\"\n",
    "    matrix = [[0 for v in g.get_vertices()] for v in g.get_vertices()]\n",
    "    list_of_vertices = [x.get_id() for x in g.get_vertices()]\n",
    "    for start_vertex in list_of_vertices:\n",
    "        # wywolujemy dijkstre na kazdym wierzcholku znajdujac najkrotsze odleglosci dla kazdej pary wierzcholkow\n",
    "        distances, predecessors = dijkstra(g, start_vertex)\n",
    "        for end_vertex, distance in distances.items():\n",
    "            # macierz odleglosci - najkrotsza odleglosc od wierzcholka start_vertex do wierzcholka end_vertex\n",
    "            matrix[start_vertex][end_vertex] = distance\n",
    "\n",
    "    return matrix\n"
   ]
  },
  {
   "cell_type": "markdown",
   "metadata": {},
   "source": [
    "# Zadanie 3. - przykład wywołania"
   ]
  },
  {
   "cell_type": "code",
   "execution_count": 45,
   "metadata": {},
   "outputs": [
    {
     "name": "stdout",
     "output_type": "stream",
     "text": [
      "\n",
      "Zestaw 3, zadanie 3 - macierz odległości:\n",
      "0\t5\t15\t15\t18\t10\t8\n",
      "5\t0\t10\t10\t13\t15\t13\n",
      "15\t10\t0\t3\t3\t6\t8\n",
      "15\t10\t3\t0\t6\t9\t8\n",
      "18\t13\t3\t6\t0\t9\t11\n",
      "10\t15\t6\t9\t9\t0\t2\n",
      "8\t13\t8\t8\t11\t2\t0\n"
     ]
    }
   ],
   "source": [
    "print(\"\\nZestaw 3, zadanie 3 - macierz odległości:\")\n",
    "distances_matrix = create_distances_matrix(graph)\n",
    "for row in distances_matrix:\n",
    "    print(*row, sep='\\t')"
   ]
  },
  {
   "cell_type": "markdown",
   "metadata": {},
   "source": [
    "# Zadanie 4. Implementacja"
   ]
  },
  {
   "cell_type": "code",
   "execution_count": 46,
   "metadata": {},
   "outputs": [],
   "source": [
    "from typing import List\n",
    "\n",
    "'''\n",
    "Funkcja wypisuje zadana macierz (liste wielu list) w estetycznej formie.\n",
    "'''\n",
    "def print_matrix(matrix: List[List]) -> None:\n",
    "    for row in matrix:\n",
    "        print(*row, sep='\\t')\n",
    "\n",
    "'''\n",
    "Funkcja dla zadanego wierzcholka zwraca indeks minimalnej wartosci.\n",
    "'''\n",
    "def find_min_index(vector: List[int]) -> int:\n",
    "    min_index = 0\n",
    "    \n",
    "    for i in range(1, len(vector)):\n",
    "        if vector[i] < vector[min_index]:\n",
    "            min_index = i\n",
    "            \n",
    "    return min_index\n",
    "\n",
    "'''\n",
    "Funkcja dla zadanej macierzy liczy sumy elementow w kazdym z wierszy i zwraca\n",
    "je w postaci listy.\n",
    "'''\n",
    "\n",
    "def get_sum_vector(matrix: List[List]) -> list:\n",
    "    sum_vector = list()\n",
    "    \n",
    "    for row in matrix:\n",
    "        sum_vector.append(sum(row))\n",
    "        \n",
    "    return sum_vector\n",
    "\n",
    "'''\n",
    "Funkcja znajduje centrum grafu - dla zadanej macierzy odleglesci\n",
    "dla calego grafu, funkcja zwraca indeks wierzcholksa, dla ktorego suma odleglosci\n",
    "do wszystkich pozostalych wierzcholkow jest minimalna.\n",
    "'''\n",
    "def find_graph_center(distances_matrix: List[List]) -> int:\n",
    "    sum_vector = get_sum_vector(distances_matrix) # pobieramy wektor sum kazdego z wierszy macierzy\n",
    "    min_index = find_min_index(sum_vector) # odnajdujemy dla ktorego wierzcholka suma w wierszu jest najmniejsza\n",
    "    \n",
    "    return min_index\n",
    "\n",
    "'''\n",
    "Funkcja znajduje centrum minimax grafu - dla zadanej macierzy odleglosci\n",
    "dla calego grafu, funkcja zwraca indeks wierzcholka, dla ktorego odleglosc\n",
    "do najdalszego wierzcholka jest minimalna.\n",
    "'''\n",
    "def find_minimax_center(distances_matrix: List[List]) -> int:\n",
    "    max_distances_vector = list()\n",
    "    \n",
    "    for row in distances_matrix:\n",
    "        row.sort() # sortujemy rosnaco kazdy z wierszy w macierzy\n",
    "        max_distances_vector.append(row[len(row) - 1]) # dodajemy najdalsze odleglosci do wektora\n",
    "        \n",
    "    min_index = find_min_index(max_distances_vector) # znajdujemy indeks minimalnej wartosci w wektorze\n",
    "    \n",
    "    return min_index"
   ]
  },
  {
   "cell_type": "markdown",
   "metadata": {},
   "source": [
    "# Zadanie 4. - przykład wywołania"
   ]
  },
  {
   "cell_type": "code",
   "execution_count": 50,
   "metadata": {},
   "outputs": [
    {
     "name": "stdout",
     "output_type": "stream",
     "text": [
      "0\t3\t4\t4\t2\t6\n",
      "3\t0\t4\t3\t1\t3\n",
      "4\t4\t0\t3\t4\t7\n",
      "4\t3\t3\t0\t2\t4\n",
      "2\t1\t4\t2\t0\t4\n",
      "6\t3\t7\t4\t4\t0\n",
      "Centrum grafu to wierzcholek: 4\n",
      "Centrum minimax grafu to wierzcholek: 1\n"
     ]
    }
   ],
   "source": [
    "distances_matrix = create_distances_matrix(graph)\n",
    "print_matrix(distances_matrix)\n",
    "graph_center = find_graph_center(distances_matrix)\n",
    "minimax_graph_center = find_minimax_center(distances_matrix)\n",
    "print(f'Centrum grafu to wierzcholek: {graph_center}')\n",
    "print(f'Centrum minimax grafu to wierzcholek: {minimax_graph_center}')"
   ]
  },
  {
   "cell_type": "markdown",
   "metadata": {},
   "source": [
    "# Zadanie 5. Implementacja"
   ]
  },
  {
   "cell_type": "code",
   "execution_count": 51,
   "metadata": {},
   "outputs": [],
   "source": [
    "from zad1 import graph, draw\n",
    "from ex2 import create_graph_visualization\n",
    "from random import randrange\n",
    "from collections import namedtuple\n",
    "from typing import List\n",
    "\n",
    "'''\n",
    "Named tuple dla reprezentacji krawedzi - uzywane jedynie na potrzeby tego zadania\n",
    "'''\n",
    "EdgePrim = namedtuple('EdgePrim', 'from_vertex to_vertex weight');\n",
    "\n",
    "'''\n",
    "Prosta klasa w formie struktury do przechowywania macierzy sasiedztwa i wag\n",
    "grafu wazonego.\n",
    "'''\n",
    "class GraphPrim:\n",
    "    def __init__(self, neighborhood_matrix, weight_matrix):\n",
    "        self.n_matrix = neighborhood_matrix\n",
    "        self.weight_matrix = weight_matrix\n",
    "\n",
    "'''\n",
    "Funkcja przeksztalca listy obiektow typow Edge i Vertex do jednej z reprezentacji \"niskopoziomowych\"\n",
    "tzn. do macierzy sasiedztwa\n",
    "'''\n",
    "def edges_and_vertices_to_adjacency_matrix(edges: List[Edge], vertices: List[Vertex]) -> List[list]:\n",
    "    matrix = list()\n",
    "    \n",
    "    for i in range(len(vertices)):\n",
    "        matrix.append(list())\n",
    "        for j in range(len(vertices)):\n",
    "            matrix[i].append(0)\n",
    "    \n",
    "    for edge in edges:\n",
    "        matrix[edge.vertices[0].id][edge.vertices[1].id] = 1\n",
    "        matrix[edge.vertices[1].id][edge.vertices[0].id] = 1\n",
    "        \n",
    "    return matrix\n",
    "\n",
    "'''\n",
    "Funkcja przeksztalca listy obiektow typu Edge i Vertex do jednej z reprezentacji \"niskopoziomowych\"\n",
    "tzn. do macierzy wag\n",
    "'''\n",
    "def edges_and_vertices_to_weights_matrix(edges: list, vertices: list) -> list:\n",
    "    matrix = list()\n",
    "    \n",
    "    for i in range(len(vertices)):\n",
    "        matrix.append(list())\n",
    "        for j in range(len(vertices)):\n",
    "            matrix[i].append(0)\n",
    "            \n",
    "    for edge in edges:\n",
    "        matrix[edge.vertices[0].id][edge.vertices[1].id] = edge.get_weight()\n",
    "        matrix[edge.vertices[1].id][edge.vertices[0].id] = edge.get_weight()\n",
    "        \n",
    "    return matrix\n",
    "\n",
    "'''\n",
    "Zadaniem funkcji jest przeksztalcenie grafu z postaci \"niskopozimowej\" (jako obiektu GraphPrim zlozonego\n",
    "z macierzy sasiedztwa i macierzy wag oraz listy EdgePrim) do obiektu typu Graph, ktory mozna narysowac\n",
    "przy pomocy metody pomocniczej do wizualizacji ze skryptu z zadaniem 1.\n",
    "'''\n",
    "def convert_to_drawable_graph(graphPrim: GraphPrim, edgesPrim: List[EdgePrim]) -> Graph:\n",
    "    graph = Graph(weighted=True)\n",
    "    edges = set()\n",
    "    \n",
    "    for i in range(len(graphPrim.n_matrix)):\n",
    "        graph.add_vertex(Vertex(i))\n",
    "        \n",
    "    for edge in edgesPrim:\n",
    "        edges.add((Vertex(edge.from_vertex), Vertex(edge.to_vertex), edge.weight))\n",
    "        \n",
    "    graph.add_edges(edges)\n",
    "    \n",
    "    return graph\n",
    "\n",
    "\n",
    "'''\n",
    "Dla grafu zadanego w postaci macierzy sasiedztwa i macierzy wag (obiekt typu GraphPrim) oraz dowolnego wybranego\n",
    "indeksu wierzcholka\n",
    "funkcja znajduje minimalne drzewo rozpinajace i zwraca je w postaci listy krawedzi (lista obiektow\n",
    "typu EdgePrim). Jest to przyklad najmniej efektywnej implementacji algorytmu (uzycie macierzy sasiedztwa\n",
    "oraz zwyklej kolejki priorytetowej (poszukiwanie minimalnej wagi w kolejnych iteracjach)).\n",
    "\n",
    "Graf musi byc oczywisce spojny, w przeciwnym wypadku nastapi blad (np. usuwanie pustego elementu z listy).\n",
    "'''    \n",
    "def find_spanning_tree(graph: GraphPrim, starting_vertex: int) -> List[EdgePrim]:    \n",
    "    NUM_OF_VERTICES = len(graph.n_matrix)\n",
    "    tree = [starting_vertex] # tutaj bd przechowywane wierzcholki, ktore jud dodano do rzewa\n",
    "    vertices = list(range(0, NUM_OF_VERTICES)) # tutaj przechowywane sa wszystkie wierzcholki \n",
    "    # ktorych nie dodano jeszcze do budowanego drzewa\n",
    "    vertices.remove(starting_vertex) # na wstepie musimy usunac z listy niedodanych wierzcholkow wierzcholek startowy\n",
    "    edges = list() # lista do przechowywania krawedzi\n",
    "    \n",
    "    '''\n",
    "    Algorytm dziala dopoki nie dodano wszystkich wierzcholkow do drzewa.\n",
    "    '''\n",
    "    while len(tree) < NUM_OF_VERTICES:\n",
    "        lightest_weight = None\n",
    "        current_edge = None\n",
    "        chosen_vertex = None\n",
    "        \n",
    "        '''\n",
    "        Musimy przeiterowac po wszystkich wierzcholkach juz dodane do drzewa i tymi ktorych jeszcze nie\n",
    "        dodano. Sprawdzamy czy istnieje miedzy nimi krawedz (linia 108.). Jeli tak, to sprawdzamy czy nowa\n",
    "        krawedz ma mniejsza wage od uprzednio rozwazanych. Jesli tak to zapisujemy ja jako najlzejsza krawedz\n",
    "        (current_edge). Po iteracjach zapisujemy do drzewa wiecholek ktory utworzyl najlzejsza krawedz.\n",
    "        Zapisujemy rowniez sama krawedz na potrzeby zwracanej listy. Z wierzcholkow niedodanych do drzewa\n",
    "        usuwamy wybrany wierzcholek.\n",
    "        '''\n",
    "        for from_vertex in tree:\n",
    "            for to_vertex in vertices:\n",
    "                if graph.n_matrix[from_vertex][to_vertex] == 1:\n",
    "                    current_weight = graph.weight_matrix[from_vertex][to_vertex]\n",
    "                    if lightest_weight is None or current_weight < lightest_weight: \n",
    "                        lightest_weight = current_weight\n",
    "                        current_edge = EdgePrim(from_vertex, to_vertex, current_weight)\n",
    "                        chosen_vertex = to_vertex\n",
    "                    \n",
    "        tree.append(chosen_vertex) # w kazdej iteracji zewnetrznej petli dolaczamy nowy wierzcholek do drzewa\n",
    "        edges.append(current_edge) # do listy krawedzi stanowiacej rezultat dzialania algorytmu dolaczamy nowa krawedz\n",
    "        vertices.remove(chosen_vertex) # z listy niedodanych jeszcze wierzcholkow usuwamy\n",
    "            \n",
    "    return edges;"
   ]
  },
  {
   "cell_type": "markdown",
   "metadata": {},
   "source": [
    "# Zadanie 5. - przykład wywołania"
   ]
  },
  {
   "cell_type": "code",
   "execution_count": 52,
   "metadata": {},
   "outputs": [
    {
     "data": {
      "image/png": "[encoded data removed]",
      "text/plain": [
       "<Figure size 432x288 with 1 Axes>"
      ]
     },
     "metadata": {},
     "output_type": "display_data"
    },
    {
     "data": {
      "image/png": "[encoded data removed]",
      "text/plain": [
       "<Figure size 432x288 with 1 Axes>"
      ]
     },
     "metadata": {},
     "output_type": "display_data"
    },
    {
     "data": {
      "text/plain": [
       "<Figure size 432x288 with 0 Axes>"
      ]
     },
     "metadata": {},
     "output_type": "display_data"
    }
   ],
   "source": [
    "adj_matrix = edges_and_vertices_to_adjacency_matrix(graph.get_edges(), \n",
    "                                                        graph.get_vertices())\n",
    "    \n",
    "weights_matrix = edges_and_vertices_to_weights_matrix(graph.get_edges(),\n",
    "                                                          graph.get_vertices())\n",
    "    \n",
    "graphPrim = GraphPrim(adj_matrix, weights_matrix)\n",
    "edgesPrim = find_spanning_tree(graphPrim, starting_vertex=0)\n",
    "    \n",
    "result_graph = convert_to_drawable_graph(graphPrim, edgesPrim)\n",
    "   \n",
    "draw(graph)    \n",
    "draw(result_graph)"
   ]
  },
  {
   "cell_type": "code",
   "execution_count": null,
   "metadata": {},
   "outputs": [],
   "source": []
  }
 ],
 "metadata": {
  "kernelspec": {
   "display_name": "Python 3",
   "language": "python",
   "name": "python3"
  },
  "language_info": {
   "codemirror_mode": {
    "name": "ipython",
    "version": 3
   },
   "file_extension": ".py",
   "mimetype": "text/x-python",
   "name": "python",
   "nbconvert_exporter": "python",
   "pygments_lexer": "ipython3",
   "version": "3.7.10"
  },
  "pycharm": {
   "stem_cell": {
    "cell_type": "raw",
    "source": [],
    "metadata": {
     "collapsed": false
    }
   }
  }
 },
 "nbformat": 4,
 "nbformat_minor": 2
}