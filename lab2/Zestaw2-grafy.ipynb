{
 "cells": [
  {
   "cell_type": "code",
   "execution_count": 171,
   "metadata": {},
   "outputs": [],
   "source": [
    "import networkx as nx\n",
    "import matplotlib.pyplot as plt\n",
    "import numpy as np\n",
    "import math\n",
    "import collections\n",
    "import random"
   ]
  },
  {
   "cell_type": "markdown",
   "metadata": {},
   "source": [
    "### Funkcje pomocnicze z poprzedniego zestawu"
   ]
  },
  {
   "cell_type": "code",
   "execution_count": 172,
   "metadata": {},
   "outputs": [],
   "source": [
    "def calculate_nodes_position(n_of_nodes):\n",
    "    nodes = {}\n",
    "    for n in range(0, n_of_nodes):\n",
    "        x = math.cos(2 * math.pi / n_of_nodes * n)\n",
    "        y = math.sin(2 * math.pi / n_of_nodes * n)\n",
    "        nodes.update({n: (x, y)})\n",
    "    return nodes"
   ]
  },
  {
   "cell_type": "code",
   "execution_count": 173,
   "metadata": {},
   "outputs": [],
   "source": [
    "def create_graph_visualization(matrix):\n",
    "    \"\"\"\n",
    "    Function visualizes the matrix of neighbourhood of graph\n",
    "    :param matrix: it's a numpy matrix, so using our functions from previous module\n",
    "                    it is needed to be converted by numpy.matrix\n",
    "    :return: None\n",
    "    \"\"\"\n",
    "    sizes = matrix.shape\n",
    "    if len(sizes) != 2 or sizes[0] != sizes[1]:\n",
    "        print(\"Incorrect matrix!\")\n",
    "        return\n",
    "    if len(matrix) > 0:\n",
    "        nodes = calculate_nodes_position(len(matrix))\n",
    "        plt.figure(figsize=(5, 5))\n",
    "        graph_visualization = nx.from_numpy_matrix(matrix)\n",
    "        nx.draw_networkx(graph_visualization, nodes, node_color=\"#FFE55E\", font_size=15)\n",
    "        plt.show()\n",
    "    else:\n",
    "        print(\"Empty matrix!\")"
   ]
  },
  {
   "cell_type": "code",
   "execution_count": 174,
   "metadata": {},
   "outputs": [],
   "source": [
    "def from_matrix_neighbour_to_list(matrix):\n",
    "    list = {}\n",
    "\n",
    "    i = 0\n",
    "    for row in matrix:\n",
    "        i += 1\n",
    "        row_list = []\n",
    "        lenght = len(row)\n",
    "        for j in range(lenght):\n",
    "            if row[j] == 1:\n",
    "                row_list.append(j + 1)\n",
    "        list[i] = row_list\n",
    "    return list"
   ]
  },
  {
   "cell_type": "markdown",
   "metadata": {},
   "source": [
    "### Prostre sortowanie.  Na wejściu przyjmuje ciąg graficzny. Zwraca posortowany ciąg graficzny"
   ]
  },
  {
   "cell_type": "code",
   "execution_count": 175,
   "metadata": {},
   "outputs": [],
   "source": [
    "def bubble_sort(arr):\n",
    "    temp = 0\n",
    "    for i in range(0, len(arr)-1):\n",
    "        for j in range(0, len(arr)-i-1):\n",
    "            if arr[j] < arr[j+1]:\n",
    "                temp = arr[j]\n",
    "                arr[j] = arr[j+1]\n",
    "                arr[j+1] = temp\n",
    "    return arr"
   ]
  },
  {
   "cell_type": "markdown",
   "metadata": {},
   "source": [
    "### Zliczanie nieparzystych elementów. Funkcja sprawdza czy w sekwencji jest nieparzysta liczba elementów nieparzystych. Na wejściu przyjmuje ciąg graficzny. Zwraca true jeżeli przekazany ciąg jest ciągiem graficznym, w przeciwnym wypadku false."
   ]
  },
  {
   "cell_type": "code",
   "execution_count": 176,
   "metadata": {},
   "outputs": [],
   "source": [
    "def calculate_odd_elements(arr):\n",
    "    counter = 0;\n",
    "    isDegreeSeq = True;\n",
    "    for i in range(0, len(arr)):\n",
    "        if arr[i] % 2 == 1:\n",
    "            counter = counter + 1\n",
    "    if counter % 2 == 1:\n",
    "        isDegreeSeq = False\n",
    "    return isDegreeSeq"
   ]
  },
  {
   "cell_type": "markdown",
   "metadata": {},
   "source": [
    "# Zad1\n",
    "### Algorytm sprawdzający czy sekwencja liczb jest ciągiem graficznym. Na wejściu przyjmuje ciąg graficzny. Zwraca true jeżeli przekazany ciąg jest ciągiem graficznym, w przeciwnym wypadku false"
   ]
  },
  {
   "cell_type": "code",
   "execution_count": 177,
   "metadata": {},
   "outputs": [],
   "source": [
    "def degree_seq(arr):\n",
    "    if calculate_odd_elements(arr):\n",
    "        arr = bubble_sort(arr)\n",
    "        while True:\n",
    "            allZeros = all(elem == 0 for elem in arr)\n",
    "            if allZeros == True:\n",
    "                return allZeros\n",
    "            isNegative = False\n",
    "            for i in range(1, len(arr)):\n",
    "                if arr[i] < 0:\n",
    "                    isNegative = True\n",
    "            if arr[0] < 0 or arr[0] >= len(arr) or isNegative:\n",
    "                return False\n",
    "            for i in range(1, arr[0]+1):\n",
    "                arr[i] = arr[i] - 1\n",
    "            arr[0] = 0\n",
    "            arr = bubble_sort(arr)\n",
    "    else:\n",
    "        return False"
   ]
  },
  {
   "cell_type": "markdown",
   "metadata": {},
   "source": [
    "### Test"
   ]
  },
  {
   "cell_type": "code",
   "execution_count": 178,
   "metadata": {},
   "outputs": [
    {
     "name": "stdout",
     "output_type": "stream",
     "text": [
      "False\n",
      "True\n"
     ]
    }
   ],
   "source": [
    "print(degree_seq([4,4,3,1,2]))\n",
    "print(degree_seq([4,2,2,3,2,1,4,2,2,2,2]))"
   ]
  },
  {
   "cell_type": "markdown",
   "metadata": {},
   "source": [
    "### Wyznaczenie sumy tablicy jednowymiarowej macierzy. Funkcja jest używana to obliczania stopni wierzchołków dla macierzy sąsiedztwa. Przyjmuje rząd z macierzy sąsiedztwa. Zwraca sumę która jest stopniem wierzchołka."
   ]
  },
  {
   "cell_type": "code",
   "execution_count": 179,
   "metadata": {},
   "outputs": [],
   "source": [
    "def sum(arr):\n",
    "    sum = 0\n",
    "    for i in range(0, len(arr)):\n",
    "        sum = sum + arr[i]\n",
    "    return sum"
   ]
  },
  {
   "cell_type": "markdown",
   "metadata": {},
   "source": [
    "### Sprawdzenie czy wierzchołki w macierzy sąsiedztwa mają stopnie zgodne z wymaganymi. Przyjmuje macierz sąsiedztwa oraz ciąg graficzny. Zwraca tablicę zawierającą indeksy wierzchołków o błędnych stopniach"
   ]
  },
  {
   "cell_type": "code",
   "execution_count": 180,
   "metadata": {},
   "outputs": [],
   "source": [
    "def check_matrix_correctness(matrix, degrees):\n",
    "    errorsArr = []\n",
    "    tmp = 0\n",
    "    for i in range(len(matrix)):\n",
    "        tmp = sum(matrix[i])\n",
    "        if tmp != degrees[i]:\n",
    "            errorsArr.append(i)\n",
    "    return errorsArr"
   ]
  },
  {
   "cell_type": "markdown",
   "metadata": {},
   "source": [
    "### Funkcja naprawiająca macierze, które mają nieprawidłowe stopnie wierzchołków. Przyjmuje jako argument macierz sąsiedztwa reprezentującą graf oraz ciąg graficzny. Funkcja działa tylko na przekazanej do niej macierzy - nic nie zwraca."
   ]
  },
  {
   "cell_type": "code",
   "execution_count": 181,
   "metadata": {},
   "outputs": [],
   "source": [
    "def repair_matrix(matrix, copy):\n",
    "    errors = check_matrix_correctness(matrix, copy)\n",
    "    while not len(errors) == 0:\n",
    "        if len(errors) % 2 == 0 and sum(matrix[errors[0]]) != sum(matrix[errors[1]]):\n",
    "                firstIdx = -1\n",
    "                secondIdx = -1\n",
    "                if sum(matrix[errors[0]]) > sum(matrix[errors[1]]):\n",
    "                    firstIdx = errors[0]\n",
    "                    secondIdx = errors[1]\n",
    "                else:\n",
    "                    firstIdx = errors[1]\n",
    "                    secondIdx = errors[0]\n",
    "                #print(\"firstIdx = \" + str(firstIdx) + \" secondIdx = \" + str(secondIdx))\n",
    "                for j in range(len(matrix)):\n",
    "                    if matrix[firstIdx][j] == 1 and matrix[j][secondIdx] == 0:\n",
    "                        matrix[firstIdx][j] = 0\n",
    "                        matrix[j][firstIdx] = 0\n",
    "                        matrix[j][secondIdx] = 1\n",
    "                        matrix[secondIdx][j] = 1\n",
    "                        break;\n",
    "                errors = check_matrix_correctness(matrix, copy)\n",
    "        else:\n",
    "            for elem in errors:\n",
    "                changed = False\n",
    "                firstIdx = random.randint(0, len(matrix)-1)\n",
    "                secondIdx = random.randint(0, len(matrix)-1)\n",
    "                iter = 0\n",
    "                while firstIdx in errors or secondIdx in errors or firstIdx == secondIdx or sum(matrix[firstIdx]) != sum(matrix[secondIdx]) or matrix[firstIdx][secondIdx] != 1:\n",
    "                    iter = iter + 1\n",
    "                    firstIdx = random.randint(0, len(matrix)-1)\n",
    "                    secondIdx = random.randint(0, len(matrix)-1)\n",
    "                    if iter == 1000:\n",
    "                        break\n",
    "                if iter == 1000:\n",
    "                    print(\"Couldn't repair matrix!\")\n",
    "                    break\n",
    "                #print(\"firstIdx = \" + str(firstIdx) + \" secondIdx = \" + str(secondIdx)) \n",
    "            \n",
    "                if matrix[errors[0]][firstIdx] == 0 and matrix[errors[0]][secondIdx] == 0:\n",
    "                    matrix[firstIdx][secondIdx] = 0\n",
    "                    matrix[secondIdx][firstIdx] = 0\n",
    "                    matrix[firstIdx][errors[0]] = 1\n",
    "                    matrix[errors[0]][firstIdx] = 1\n",
    "                    matrix[secondIdx][errors[0]] = 1\n",
    "                    matrix[errors[0]][secondIdx] = 1\n",
    "                errors = check_matrix_correctness(matrix, copy)\n",
    "            if iter == 1000:\n",
    "                print(matrix)\n",
    "                break\n",
    "                #print(errors)"
   ]
  },
  {
   "cell_type": "markdown",
   "metadata": {},
   "source": [
    "### Funckja tworzy graf zbudowany na podstawie zadanego ciągu graficznego. Przyjmuje ciąg graficzny. Zwraca utworzony graf lub pustą tablice jeżeli grafu nie da się utworzyć na podstawie zadanego ciągu "
   ]
  },
  {
   "cell_type": "code",
   "execution_count": 182,
   "metadata": {},
   "outputs": [],
   "source": [
    "def create_graph_from_seq(arr):\n",
    "    copy = arr.copy();\n",
    "    zeros = {}\n",
    "    zeros[0] = []\n",
    "    if 0 in arr:\n",
    "        arr = bubble_sort(arr)\n",
    "    for i in range(len(arr)):\n",
    "        if arr[i] == 0:\n",
    "            zeros[arr[i]].append(i)\n",
    "    matrix = [[0 for i in range(len(copy))] for j in range(len(copy))]\n",
    "    counter = 0\n",
    "    step = 1\n",
    "    idx = 0\n",
    "    copy = bubble_sort(copy)\n",
    "    \n",
    "    if degree_seq(arr):\n",
    "        for step in range(0, len(copy)):\n",
    "            counter = sum(matrix[step])\n",
    "            for i in range(step+1, len(copy)):\n",
    "                if not i in zeros[0] and not step in zeros[0]:\n",
    "                    if sum(matrix[i]) < copy[i]:\n",
    "                        if counter < copy[idx]:\n",
    "                            matrix[step][i] = 1\n",
    "                            matrix[i][step] = 1\n",
    "                            counter = counter + 1        \n",
    "            idx = idx + 1\n",
    "        \n",
    "        repair_matrix(matrix, copy)\n",
    "        return matrix\n",
    "    else:\n",
    "        return []"
   ]
  },
  {
   "cell_type": "code",
   "execution_count": 183,
   "metadata": {},
   "outputs": [
    {
     "data": {
      "image/png": "[encoded data removed]",
      "text/plain": [
       "<Figure size 360x360 with 1 Axes>"
      ]
     },
     "metadata": {},
     "output_type": "display_data"
    }
   ],
   "source": [
    "matrix = create_graph_from_seq([4, 2, 2, 3, 2, 1, 4, 2, 2, 2, 2])\n",
    "create_graph_visualization(np.matrix(matrix))"
   ]
  },
  {
   "cell_type": "code",
   "execution_count": 184,
   "metadata": {},
   "outputs": [
    {
     "name": "stdout",
     "output_type": "stream",
     "text": [
      "Incorrect matrix!\n"
     ]
    }
   ],
   "source": [
    "matrix = create_graph_from_seq([4, 4, 3, 1, 2])\n",
    "create_graph_visualization(np.matrix(matrix))"
   ]
  },
  {
   "cell_type": "markdown",
   "metadata": {},
   "source": [
    "### Funkcja tworząca graf k-regularny. Przyjmuje k - stopień pojedyńczego wierzchołka, numOfVertices - liczbę wierzchołków. Zwraca macierz lub pustą tablice jeśli nie można utworzyć macierzy."
   ]
  },
  {
   "cell_type": "code",
   "execution_count": 185,
   "metadata": {},
   "outputs": [],
   "source": [
    "def generate_k_regular_graph(k, numOfVertices):\n",
    "    arr = []\n",
    "    for i in range(numOfVertices):\n",
    "        arr.append(k)\n",
    "    return create_graph_from_seq(arr)"
   ]
  },
  {
   "cell_type": "code",
   "execution_count": 186,
   "metadata": {},
   "outputs": [
    {
     "data": {
      "image/png": "[encoded data removed]",
      "text/plain": [
       "<Figure size 360x360 with 1 Axes>"
      ]
     },
     "metadata": {},
     "output_type": "display_data"
    }
   ],
   "source": [
    "create_graph_visualization(np.matrix(generate_k_regular_graph(2, 4)))"
   ]
  },
  {
   "cell_type": "code",
   "execution_count": 187,
   "metadata": {},
   "outputs": [
    {
     "name": "stdout",
     "output_type": "stream",
     "text": [
      "Incorrect matrix!\n"
     ]
    }
   ],
   "source": [
    "create_graph_visualization(np.matrix(generate_k_regular_graph(3, 7)))"
   ]
  },
  {
   "cell_type": "markdown",
   "metadata": {},
   "source": [
    "### Funkcja randomizująca graf. Przyjmuje graph - graf zadany macierzą sąsiedztwa, number - ilość randomizacji. Funkcja nic nie zwraca"
   ]
  },
  {
   "cell_type": "code",
   "execution_count": 188,
   "metadata": {},
   "outputs": [],
   "source": [
    "def randomize(graph, number):\n",
    "    if len(graph) > 0:\n",
    "        for rands in range(number):\n",
    "            i = 0\n",
    "            size = len(graph)-1\n",
    "            firstIdx = random.randint(0, size)\n",
    "            secondIdx = random.randint(0, size)\n",
    "            while graph[firstIdx][secondIdx] != 1:\n",
    "                firstIdx = random.randint(0, size)\n",
    "                i = 0\n",
    "                while firstIdx == secondIdx:\n",
    "                    secondIdx = random.randint(0, size)\n",
    "                    i = i + 1\n",
    "                    if i == 100:\n",
    "                        break\n",
    "                if i == 100:\n",
    "                    break\n",
    "            if i == 100:\n",
    "                print(\"Couldn't randomize graph!\")\n",
    "                return\n",
    "            i = 0\n",
    "            thirdIdx = random.randint(0, size)\n",
    "            fourthIdx = random.randint(0, size)\n",
    "            while thirdIdx == firstIdx or thirdIdx == secondIdx or graph[thirdIdx][fourthIdx] != 1:\n",
    "                thirdIdx = random.randint(0, size)\n",
    "                while thirdIdx == fourthIdx or fourthIdx == firstIdx:\n",
    "                    fourthIdx = random.randint(0, size)\n",
    "                    i = i + 1\n",
    "                    if i == 100:\n",
    "                        break\n",
    "                if i == 100:\n",
    "                    break\n",
    "            if i == 100:\n",
    "                print(\"Couldn't randomize graph!\")\n",
    "                return\n",
    "            #print(\"firstIdx = \" + str(firstIdx) + \" secondIdx = \" + str(secondIdx) + \" thirdIdx = \" + str(thirdIdx) + \" fourthIdx = \" + str(fourthIdx))\n",
    "            if firstIdx != fourthIdx and firstIdx != secondIdx and thirdIdx != fourthIdx and secondIdx != thirdIdx and graph[firstIdx][fourthIdx] == 0 and graph[secondIdx][thirdIdx] == 0:\n",
    "                graph[firstIdx][secondIdx] = 0\n",
    "                graph[secondIdx][firstIdx] = 0\n",
    "                graph[firstIdx][fourthIdx] = 1\n",
    "                graph[fourthIdx][firstIdx] = 1\n",
    "                graph[thirdIdx][fourthIdx] = 0\n",
    "                graph[fourthIdx][thirdIdx] = 0\n",
    "                graph[secondIdx][thirdIdx] = 1\n",
    "                graph[thirdIdx][secondIdx] = 1"
   ]
  },
  {
   "cell_type": "code",
   "execution_count": 189,
   "metadata": {},
   "outputs": [
    {
     "data": {
      "image/png": "[encoded data removed]",
      "text/plain": [
       "<Figure size 360x360 with 1 Axes>"
      ]
     },
     "metadata": {},
     "output_type": "display_data"
    }
   ],
   "source": [
    "matrix = create_graph_from_seq([4, 2, 2, 3, 2, 1, 4, 2, 2, 2, 2])\n",
    "randomize(matrix, 10)\n",
    "create_graph_visualization(np.matrix(matrix))"
   ]
  },
  {
   "cell_type": "code",
   "execution_count": 190,
   "metadata": {},
   "outputs": [
    {
     "name": "stdout",
     "output_type": "stream",
     "text": [
      "Incorrect matrix!\n"
     ]
    }
   ],
   "source": [
    "matrix = generate_k_regular_graph(3, 5)\n",
    "randomize(matrix, 10)\n",
    "create_graph_visualization(np.matrix(matrix))"
   ]
  },
  {
   "cell_type": "markdown",
   "metadata": {},
   "source": [
    "### Funkcja przeszukująca graf w głąb. Przyjmuje numer iteracji, wierzchołek, macierz sąsiedztwa i stos reprezentowany przez tablicę. Funkcja nic nie zwraca."
   ]
  },
  {
   "cell_type": "code",
   "execution_count": 191,
   "metadata": {},
   "outputs": [],
   "source": [
    "def components_r(nr, v, graph, comp):\n",
    "    for j in range(len(graph.get(v))):\n",
    "        if comp[graph.get(v)[j]-1] == -1:\n",
    "            comp[graph.get(v)[j]-1] = nr\n",
    "            components_r(nr, graph.get(v)[j], graph, comp)"
   ]
  },
  {
   "cell_type": "markdown",
   "metadata": {},
   "source": [
    "### Funkcja wyznaczająca spójne składowe. Przyjmuje graf w postaci macierzy sąsiedztwa. Funkcja nic nie zwraca."
   ]
  },
  {
   "cell_type": "code",
   "execution_count": 192,
   "metadata": {},
   "outputs": [],
   "source": [
    "def components(graph):\n",
    "    nr = 0\n",
    "    comp = [-1 for i in range(len(graph))]\n",
    "    for i in range(len(graph)):\n",
    "        if comp[i] == -1:\n",
    "            nr = nr + 1\n",
    "            comp[i] = nr\n",
    "            components_r(nr, i+1, graph, comp)\n",
    "    counter = 0\n",
    "    dicto = {}\n",
    "    for i in range(len(comp)):\n",
    "        if comp[i] != counter:\n",
    "            counter = comp[i]\n",
    "            dicto[counter] = []\n",
    "    for i in range(len(comp)):\n",
    "        dicto[comp[i]].append(i+1)\n",
    "    sorted_dict = collections.OrderedDict(sorted(dicto.items()))\n",
    "    temp = \"\"\n",
    "    for i in range(1, len(sorted_dict)+1):\n",
    "        temp = temp + str(i) + \") \"\n",
    "        for elem in sorted_dict[i]:\n",
    "            temp = temp + str(elem) + \" \"\n",
    "        print(temp)\n",
    "        temp = \"\"\n",
    "    longest = -1\n",
    "    longest_dict_idx = 0\n",
    "    for i in range(1, len(sorted_dict)+1):\n",
    "        if len(sorted_dict[i]) > longest:\n",
    "            longest = len(sorted_dict[i])\n",
    "            longest_dict_idx = i\n",
    "    print(\"Najwieksza skladowa ma numer \" + str(longest_dict_idx) + \".\")"
   ]
  },
  {
   "cell_type": "markdown",
   "metadata": {},
   "source": [
    "### Test"
   ]
  },
  {
   "cell_type": "code",
   "execution_count": 193,
   "metadata": {},
   "outputs": [
    {
     "name": "stdout",
     "output_type": "stream",
     "text": [
      "1) 1 2 3 4 5 6 7 8 9 10 11 \n",
      "Najwieksza skladowa ma numer 1.\n"
     ]
    }
   ],
   "source": [
    "components(from_matrix_neighbour_to_list(create_graph_from_seq([4,2,2,3,2,1,4,2,2,2,2])))"
   ]
  },
  {
   "cell_type": "markdown",
   "metadata": {},
   "source": [
    "### Funkcje wyznaczająca cykl Eulera. Funkcja przyjmuje stos reprezentowany przez tablicę, który służy do przechowywania numerów wierzchołków, indeks reprezentujący wierzchołek, macierz będącą grafem."
   ]
  },
  {
   "cell_type": "code",
   "execution_count": 194,
   "metadata": {},
   "outputs": [],
   "source": [
    "def find_euler_cycle(cycle, idx, graph):\n",
    "    for j in range(len(graph[idx])):\n",
    "        if graph[idx][j] != 0:\n",
    "            graph[idx][j] = 0\n",
    "            graph[j][idx] = 0\n",
    "            find_euler_cycle(cycle, j, graph)\n",
    "    cycle.append(idx+1)"
   ]
  },
  {
   "cell_type": "markdown",
   "metadata": {},
   "source": [
    "### Funkcja zwracająca losowy ciąg graficzny o zadanej długości. Funkcja przyjmuję liczbę wyznaczającą ilość wierzchołków tworzonego grafu"
   ]
  },
  {
   "cell_type": "code",
   "execution_count": 195,
   "metadata": {},
   "outputs": [],
   "source": [
    "def prepare_random_vertices(numberOfVertices):\n",
    "    vertices = [-1 for i in range(numberOfVertices)]\n",
    "    for i in range(numberOfVertices):\n",
    "        randNum = random.randint(1, numberOfVertices)\n",
    "        while (randNum % 2 != 0 or randNum == numberOfVertices):\n",
    "            randNum = random.randint(1, numberOfVertices)\n",
    "        vertices[i] = randNum\n",
    "    return vertices"
   ]
  },
  {
   "cell_type": "markdown",
   "metadata": {},
   "source": [
    "### Funkcja tworząca losowy graf eulerowski. Funkcja nic nie zwraca"
   ]
  },
  {
   "cell_type": "code",
   "execution_count": 196,
   "metadata": {},
   "outputs": [],
   "source": [
    "def generate_euler_graph(numberOfVertices):\n",
    "    if numberOfVertices < 3:\n",
    "        print(\" \")\n",
    "        return\n",
    "    vertices = prepare_random_vertices(numberOfVertices)\n",
    "    graph = create_graph_from_seq(vertices)\n",
    "    if graph != -1:\n",
    "        print(from_matrix_neighbour_to_list(graph))\n",
    "    while graph == -1:\n",
    "        vertices = prepare_random_vertices(numberOfVertices)\n",
    "        graph = create_graph_from_seq(vertices)\n",
    "        if graph != -1:\n",
    "            print(from_matrix_neighbour_to_list(graph))\n",
    "    cycle = []\n",
    "    find_euler_cycle(cycle, 0, graph)\n",
    "    path = \"\"\n",
    "    for i in range(len(cycle)):\n",
    "        if i == 0:\n",
    "            path = path + str(cycle[i])\n",
    "        else:\n",
    "            path = path + \" - \" + str(cycle[i])\n",
    "    print(path)"
   ]
  },
  {
   "cell_type": "markdown",
   "metadata": {},
   "source": [
    "### Zmodyfikowany algorytm przechodzenia grafu w głąb. Pozwala znaleźć ścieżkę Hamiltona w grafie jeżeli taka istnieje. Jako parametry przyjmuje numer odwiedzanego wierzchołka, listę sąsiedztwa,  tablice z informacją o odwiedzonych wierzchołkach,  stos przechowujący numery odwiedzonych wierzchołków."
   ]
  },
  {
   "cell_type": "code",
   "execution_count": 197,
   "metadata": {},
   "outputs": [],
   "source": [
    "def modified_components_r(v, graph, comp, stack):\n",
    "    for i in graph.get(v):\n",
    "        if comp[i-1] == -1:\n",
    "            comp[i-1] = 1\n",
    "            stack.append(i)\n",
    "            if len(stack) == len(graph):\n",
    "                if not stack[0] in graph.get(i):\n",
    "                    tmp = stack.pop()\n",
    "                    comp[tmp-1] = -1\n",
    "                else:\n",
    "                    stack.append(stack[0])\n",
    "            else:\n",
    "                modified_components_r(i, graph, comp, stack)\n",
    "                if len(stack) <= len(graph): # Ścieżka hamiltona w grafie ma o 1 wierzchołek więcej od wierzchołków grafu\n",
    "                    tmp = stack.pop()\n",
    "                    comp[tmp-1] = -1"
   ]
  },
  {
   "cell_type": "markdown",
   "metadata": {},
   "source": [
    "### Funkcja wypisująca ścieżkę Hamiltona występującą w grafie. Jako argument przyjmuje graf w formie listy sąsiedztwa."
   ]
  },
  {
   "cell_type": "code",
   "execution_count": 198,
   "metadata": {},
   "outputs": [],
   "source": [
    "def find_hamilton_cycle(graph):\n",
    "    comp = [-1 for i in range(len(graph))]\n",
    "    stack = []\n",
    "    for i in range(len(graph)):\n",
    "        if comp[i] == -1:\n",
    "            comp[i] = 1\n",
    "            stack.append(i+1)\n",
    "            modified_components_r(1, graph, comp, stack)\n",
    "    if len(stack) == len(graph)+1:\n",
    "        tmpStr = \"[\"\n",
    "        for i in range(len(stack)):\n",
    "            if i < len(stack)-1:\n",
    "                tmpStr = tmpStr + str(stack[i]) + \" - \"\n",
    "            else:\n",
    "                tmpStr = tmpStr + str(stack[i]) + \"]\"\n",
    "        print(tmpStr)\n",
    "    else:\n",
    "        print(\"No hamilton cycle in this graph!\")"
   ]
  },
  {
   "cell_type": "code",
   "execution_count": 201,
   "metadata": {},
   "outputs": [
    {
     "name": "stdout",
     "output_type": "stream",
     "text": [
      "[1 - 4 - 3 - 5 - 2 - 6 - 1]\n"
     ]
    }
   ],
   "source": [
    "matrix = create_graph_from_seq([3, 2, 0, 2, 3])\n",
    "#print(matrix)\n",
    "randomize(matrix, 100)\n",
    "#print(matrix)\n",
    "#find_hamilton_cycle(from_matrix_neighbour_to_list(matrix))\n",
    "#find_hamilton_cycle({1: [2, 4, 5], 2: [1, 3, 5, 6], 3: [2, 4, 7], 4: [1, 3, 6, 7], 5: [1, 2, 8], 6: [2, 4, 8], 7: [3, 4, 8], 8: [5, 6, 7]})\n",
    "#find_hamilton_cycle({1: [2, 4, 5, 6], 2: [1, 3, 5, 6], 3: [2, 4, 5], 4: [1, 3, 5], 5: [1, 2, 3, 4], 6: [1, 2]})"
   ]
  },
  {
   "cell_type": "code",
   "execution_count": null,
   "metadata": {},
   "outputs": [],
   "source": []
  }
 ],
 "metadata": {
  "kernelspec": {
   "display_name": "Python [conda env:lab2]",
   "language": "python",
   "name": "conda-env-lab2-py"
  },
  "language_info": {
   "codemirror_mode": {
    "name": "ipython",
    "version": 3
   },
   "file_extension": ".py",
   "mimetype": "text/x-python",
   "name": "python",
   "nbconvert_exporter": "python",
   "pygments_lexer": "ipython3",
   "version": "3.7.8"
  }
 },
 "nbformat": 4,
 "nbformat_minor": 4
}
